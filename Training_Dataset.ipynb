{
 "cells": [
  {
   "cell_type": "code",
   "execution_count": 530,
   "id": "d4d38c9e",
   "metadata": {},
   "outputs": [],
   "source": [
    "import pandas as pd\n",
    "import numpy as np\n",
    "import matplotlib.pyplot as plt\n",
    "import seaborn as sns\n",
    "import statsmodels.api as sm\n",
    "\n",
    "import xgboost as xgb\n",
    "from xgboost.sklearn import (XGBClassifier,\n",
    "                        XGBRegressor)\n",
    "\n",
    "from sklearn.metrics import (r2_score,\n",
    "                            mean_squared_error,\n",
    "                            mean_absolute_error,\n",
    "                            median_absolute_error,\n",
    "                            roc_auc_score, auc,\n",
    "                            classification_report,\n",
    "                            confusion_matrix,\n",
    "                            roc_curve)\n",
    "\n",
    "from sklearn.preprocessing import StandardScaler\n",
    "from sklearn.pipeline import Pipeline\n",
    "# from sklearn.feature_extraction.text import TfidVectorizer\n",
    "from sklearn.feature_selection import (mutual_info_classif,\n",
    "                                      mutual_info_regression)\n",
    "from sklearn.decomposition import PCA\n",
    "from sklearn.manifold import TSNE\n",
    "from sklearn.model_selection import (KFold, train_test_split)\n",
    "\n",
    "import hyperopt\n",
    "from hyperopt import fmin, tpe, hp, STATUS_OK"
   ]
  },
  {
   "cell_type": "code",
   "execution_count": 531,
   "id": "1d655a17",
   "metadata": {},
   "outputs": [],
   "source": [
    "#from preprocess_features import*\n",
    "# from visual_functions import*\n",
    "# from hyperparameter_tuning import*"
   ]
  },
  {
   "cell_type": "code",
   "execution_count": 357,
   "id": "5716ff52",
   "metadata": {},
   "outputs": [],
   "source": [
    "import warnings\n",
    "warnings.filterwarnings('ignore')"
   ]
  },
  {
   "cell_type": "code",
   "execution_count": 358,
   "id": "ac8ffb58",
   "metadata": {},
   "outputs": [],
   "source": [
    "sns.set_style('whitegrid')"
   ]
  },
  {
   "cell_type": "code",
   "execution_count": 359,
   "id": "f3073622",
   "metadata": {},
   "outputs": [
    {
     "name": "stdout",
     "output_type": "stream",
     "text": [
      "<class 'pandas.core.frame.DataFrame'>\n",
      "RangeIndex: 6298 entries, 0 to 6297\n",
      "Data columns (total 29 columns):\n",
      " #   Column           Non-Null Count  Dtype  \n",
      "---  ------           --------------  -----  \n",
      " 0   ListingID        6298 non-null   int64  \n",
      " 1   Seller City      6298 non-null   object \n",
      " 2   Seller Is Priv   6298 non-null   bool   \n",
      " 3   Seller List Src  6296 non-null   object \n",
      " 4   Seller Name      6298 non-null   object \n",
      " 5   Seller Rating    6298 non-null   float64\n",
      " 6   Seller Rev Cnt   6298 non-null   int64  \n",
      " 7   Seller State     6298 non-null   object \n",
      " 8   Seller Zip       6296 non-null   float64\n",
      " 9   Body style       6298 non-null   object \n",
      " 10  Certified        6298 non-null   bool   \n",
      " 11  Color Ext        6225 non-null   object \n",
      " 12  Color Int        5570 non-null   object \n",
      " 13  Drive Train      5897 non-null   object \n",
      " 14  Engine           5937 non-null   object \n",
      " 15  Feats            6023 non-null   object \n",
      " 16  Fuel             6296 non-null   object \n",
      " 17  History          6097 non-null   object \n",
      " 18  List days        6296 non-null   float64\n",
      " 19  Make             6298 non-null   object \n",
      " 20  Mileage          6296 non-null   float64\n",
      " 21  Model            6298 non-null   object \n",
      " 22  Price Label      6013 non-null   object \n",
      " 23  Seller Notes     6055 non-null   object \n",
      " 24  Type             6298 non-null   object \n",
      " 25  Transmission     6101 non-null   object \n",
      " 26  Year             6298 non-null   int64  \n",
      " 27  Trim             5893 non-null   object \n",
      " 28  Listing Price    6246 non-null   float64\n",
      "dtypes: bool(2), float64(5), int64(3), object(19)\n",
      "memory usage: 1.3+ MB\n"
     ]
    }
   ],
   "source": [
    "# Load csv\n",
    "train_data = pd.read_csv('Training_Clean_DataSet.csv')\n",
    "train_data.info()"
   ]
  },
  {
   "cell_type": "code",
   "execution_count": 360,
   "id": "399c8245",
   "metadata": {},
   "outputs": [],
   "source": [
    "train_data = train_data.set_index('ListingID')"
   ]
  },
  {
   "cell_type": "code",
   "execution_count": 361,
   "id": "de0ab577",
   "metadata": {},
   "outputs": [
    {
     "data": {
      "text/html": [
       "<div>\n",
       "<style scoped>\n",
       "    .dataframe tbody tr th:only-of-type {\n",
       "        vertical-align: middle;\n",
       "    }\n",
       "\n",
       "    .dataframe tbody tr th {\n",
       "        vertical-align: top;\n",
       "    }\n",
       "\n",
       "    .dataframe thead th {\n",
       "        text-align: right;\n",
       "    }\n",
       "</style>\n",
       "<table border=\"1\" class=\"dataframe\">\n",
       "  <thead>\n",
       "    <tr style=\"text-align: right;\">\n",
       "      <th></th>\n",
       "      <th>Seller City</th>\n",
       "      <th>Seller Is Priv</th>\n",
       "      <th>Seller List Src</th>\n",
       "      <th>Seller Name</th>\n",
       "      <th>Seller Rating</th>\n",
       "      <th>Seller Rev Cnt</th>\n",
       "      <th>Seller State</th>\n",
       "      <th>Seller Zip</th>\n",
       "      <th>Body style</th>\n",
       "      <th>Certified</th>\n",
       "      <th>...</th>\n",
       "      <th>Make</th>\n",
       "      <th>Mileage</th>\n",
       "      <th>Model</th>\n",
       "      <th>Price Label</th>\n",
       "      <th>Seller Notes</th>\n",
       "      <th>Type</th>\n",
       "      <th>Transmission</th>\n",
       "      <th>Year</th>\n",
       "      <th>Trim</th>\n",
       "      <th>Listing Price</th>\n",
       "    </tr>\n",
       "    <tr>\n",
       "      <th>ListingID</th>\n",
       "      <th></th>\n",
       "      <th></th>\n",
       "      <th></th>\n",
       "      <th></th>\n",
       "      <th></th>\n",
       "      <th></th>\n",
       "      <th></th>\n",
       "      <th></th>\n",
       "      <th></th>\n",
       "      <th></th>\n",
       "      <th></th>\n",
       "      <th></th>\n",
       "      <th></th>\n",
       "      <th></th>\n",
       "      <th></th>\n",
       "      <th></th>\n",
       "      <th></th>\n",
       "      <th></th>\n",
       "      <th></th>\n",
       "      <th></th>\n",
       "      <th></th>\n",
       "    </tr>\n",
       "  </thead>\n",
       "  <tbody>\n",
       "    <tr>\n",
       "      <th>3287</th>\n",
       "      <td>Warren</td>\n",
       "      <td>False</td>\n",
       "      <td>Inventory Command Center</td>\n",
       "      <td>Prime Motorz</td>\n",
       "      <td>5.0</td>\n",
       "      <td>32</td>\n",
       "      <td>MI</td>\n",
       "      <td>48091.0</td>\n",
       "      <td>SUV</td>\n",
       "      <td>False</td>\n",
       "      <td>...</td>\n",
       "      <td>Jeep</td>\n",
       "      <td>39319.0</td>\n",
       "      <td>Grand Cherokee</td>\n",
       "      <td>Fair Price</td>\n",
       "      <td>NaN</td>\n",
       "      <td>Used</td>\n",
       "      <td>Automatic 8-Speed</td>\n",
       "      <td>2015</td>\n",
       "      <td>High Altitude</td>\n",
       "      <td>30990.0</td>\n",
       "    </tr>\n",
       "    <tr>\n",
       "      <th>3920</th>\n",
       "      <td>Fargo</td>\n",
       "      <td>False</td>\n",
       "      <td>Cadillac Certified Program</td>\n",
       "      <td>Gateway Chevrolet Cadillac</td>\n",
       "      <td>4.8</td>\n",
       "      <td>1456</td>\n",
       "      <td>ND</td>\n",
       "      <td>58103.0</td>\n",
       "      <td>SUV</td>\n",
       "      <td>True</td>\n",
       "      <td>...</td>\n",
       "      <td>Cadillac</td>\n",
       "      <td>30352.0</td>\n",
       "      <td>XT5</td>\n",
       "      <td>Good Deal</td>\n",
       "      <td>Come take a look at our great pre-owned invent...</td>\n",
       "      <td>Used</td>\n",
       "      <td>NaN</td>\n",
       "      <td>2017</td>\n",
       "      <td>NaN</td>\n",
       "      <td>34860.0</td>\n",
       "    </tr>\n",
       "    <tr>\n",
       "      <th>4777</th>\n",
       "      <td>Waukesha</td>\n",
       "      <td>False</td>\n",
       "      <td>Jeep Certified Program</td>\n",
       "      <td>Wilde Chrysler Jeep Dodge Ram &amp;amp; Subaru</td>\n",
       "      <td>4.8</td>\n",
       "      <td>1405</td>\n",
       "      <td>WI</td>\n",
       "      <td>53186.0</td>\n",
       "      <td>SUV</td>\n",
       "      <td>True</td>\n",
       "      <td>...</td>\n",
       "      <td>Jeep</td>\n",
       "      <td>38957.0</td>\n",
       "      <td>Grand Cherokee</td>\n",
       "      <td>Good Deal</td>\n",
       "      <td>Backed by a rigorous 125-point inspection by f...</td>\n",
       "      <td>Used</td>\n",
       "      <td>8-Speed Automatic w/OD</td>\n",
       "      <td>2015</td>\n",
       "      <td>Laredo</td>\n",
       "      <td>23249.0</td>\n",
       "    </tr>\n",
       "    <tr>\n",
       "      <th>6242</th>\n",
       "      <td>Wentzville</td>\n",
       "      <td>False</td>\n",
       "      <td>Inventory Command Center</td>\n",
       "      <td>Century Dodge Chrysler Jeep RAM</td>\n",
       "      <td>4.4</td>\n",
       "      <td>21</td>\n",
       "      <td>MO</td>\n",
       "      <td>63385.0</td>\n",
       "      <td>SUV</td>\n",
       "      <td>False</td>\n",
       "      <td>...</td>\n",
       "      <td>Jeep</td>\n",
       "      <td>20404.0</td>\n",
       "      <td>Grand Cherokee</td>\n",
       "      <td>Good Deal</td>\n",
       "      <td>Drop by to see us and you will quickly see how...</td>\n",
       "      <td>Used</td>\n",
       "      <td>Automatic</td>\n",
       "      <td>2018</td>\n",
       "      <td>Limited</td>\n",
       "      <td>31977.0</td>\n",
       "    </tr>\n",
       "    <tr>\n",
       "      <th>7108</th>\n",
       "      <td>Fayetteville</td>\n",
       "      <td>False</td>\n",
       "      <td>HomeNet Automotive</td>\n",
       "      <td>Superior Buick GMC of Fayetteville</td>\n",
       "      <td>3.7</td>\n",
       "      <td>74</td>\n",
       "      <td>AR</td>\n",
       "      <td>72703.0</td>\n",
       "      <td>SUV</td>\n",
       "      <td>False</td>\n",
       "      <td>...</td>\n",
       "      <td>Cadillac</td>\n",
       "      <td>19788.0</td>\n",
       "      <td>XT5</td>\n",
       "      <td>Good Deal</td>\n",
       "      <td>Luxury, Exterior Parking Camera Rear, Front Du...</td>\n",
       "      <td>Used</td>\n",
       "      <td>8-Speed Automatic</td>\n",
       "      <td>2018</td>\n",
       "      <td>Luxury</td>\n",
       "      <td>33495.0</td>\n",
       "    </tr>\n",
       "  </tbody>\n",
       "</table>\n",
       "<p>5 rows × 28 columns</p>\n",
       "</div>"
      ],
      "text/plain": [
       "            Seller City  Seller Is Priv             Seller List Src  \\\n",
       "ListingID                                                             \n",
       "3287             Warren           False    Inventory Command Center   \n",
       "3920              Fargo           False  Cadillac Certified Program   \n",
       "4777           Waukesha           False      Jeep Certified Program   \n",
       "6242         Wentzville           False    Inventory Command Center   \n",
       "7108       Fayetteville           False          HomeNet Automotive   \n",
       "\n",
       "                                          Seller Name  Seller Rating  \\\n",
       "ListingID                                                              \n",
       "3287                                     Prime Motorz            5.0   \n",
       "3920                       Gateway Chevrolet Cadillac            4.8   \n",
       "4777       Wilde Chrysler Jeep Dodge Ram &amp; Subaru            4.8   \n",
       "6242                  Century Dodge Chrysler Jeep RAM            4.4   \n",
       "7108               Superior Buick GMC of Fayetteville            3.7   \n",
       "\n",
       "           Seller Rev Cnt Seller State  Seller Zip Body style  Certified  ...  \\\n",
       "ListingID                                                                 ...   \n",
       "3287                   32           MI     48091.0        SUV      False  ...   \n",
       "3920                 1456           ND     58103.0        SUV       True  ...   \n",
       "4777                 1405           WI     53186.0        SUV       True  ...   \n",
       "6242                   21           MO     63385.0        SUV      False  ...   \n",
       "7108                   74           AR     72703.0        SUV      False  ...   \n",
       "\n",
       "               Make  Mileage           Model Price Label  \\\n",
       "ListingID                                                  \n",
       "3287           Jeep  39319.0  Grand Cherokee  Fair Price   \n",
       "3920       Cadillac  30352.0             XT5   Good Deal   \n",
       "4777           Jeep  38957.0  Grand Cherokee   Good Deal   \n",
       "6242           Jeep  20404.0  Grand Cherokee   Good Deal   \n",
       "7108       Cadillac  19788.0             XT5   Good Deal   \n",
       "\n",
       "                                                Seller Notes  Type  \\\n",
       "ListingID                                                            \n",
       "3287                                                     NaN  Used   \n",
       "3920       Come take a look at our great pre-owned invent...  Used   \n",
       "4777       Backed by a rigorous 125-point inspection by f...  Used   \n",
       "6242       Drop by to see us and you will quickly see how...  Used   \n",
       "7108       Luxury, Exterior Parking Camera Rear, Front Du...  Used   \n",
       "\n",
       "                     Transmission  Year           Trim  Listing Price  \n",
       "ListingID                                                              \n",
       "3287            Automatic 8-Speed  2015  High Altitude        30990.0  \n",
       "3920                          NaN  2017            NaN        34860.0  \n",
       "4777       8-Speed Automatic w/OD  2015         Laredo        23249.0  \n",
       "6242                    Automatic  2018        Limited        31977.0  \n",
       "7108            8-Speed Automatic  2018         Luxury        33495.0  \n",
       "\n",
       "[5 rows x 28 columns]"
      ]
     },
     "execution_count": 361,
     "metadata": {},
     "output_type": "execute_result"
    }
   ],
   "source": [
    "train_data.head()"
   ]
  },
  {
   "cell_type": "code",
   "execution_count": 362,
   "id": "f5dd3fd7",
   "metadata": {},
   "outputs": [],
   "source": [
    "train_data.columns = train_data.columns.str.lower()"
   ]
  },
  {
   "cell_type": "code",
   "execution_count": 363,
   "id": "024b0987",
   "metadata": {},
   "outputs": [
    {
     "name": "stdout",
     "output_type": "stream",
     "text": [
      "<class 'pandas.core.frame.DataFrame'>\n",
      "Index: 6298 entries, 3287 to 8620012\n",
      "Data columns (total 2 columns):\n",
      " #   Column         Non-Null Count  Dtype  \n",
      "---  ------         --------------  -----  \n",
      " 0   trim           5893 non-null   object \n",
      " 1   listing price  6246 non-null   float64\n",
      "dtypes: float64(1), object(1)\n",
      "memory usage: 147.6+ KB\n"
     ]
    }
   ],
   "source": [
    "# Split Independent and Dependent Variables\n",
    "y = train_data[['trim', 'listing price']]\n",
    "y.info()"
   ]
  },
  {
   "cell_type": "code",
   "execution_count": 364,
   "id": "1f626f5a",
   "metadata": {},
   "outputs": [
    {
     "data": {
      "text/plain": [
       "trim             405\n",
       "listing price     52\n",
       "dtype: int64"
      ]
     },
     "execution_count": 364,
     "metadata": {},
     "output_type": "execute_result"
    }
   ],
   "source": [
    "y.isna().sum()"
   ]
  },
  {
   "cell_type": "code",
   "execution_count": 365,
   "id": "9a385be5",
   "metadata": {},
   "outputs": [
    {
     "name": "stdout",
     "output_type": "stream",
     "text": [
      "<class 'pandas.core.frame.DataFrame'>\n",
      "Index: 6298 entries, 3287 to 8620012\n",
      "Data columns (total 26 columns):\n",
      " #   Column           Non-Null Count  Dtype  \n",
      "---  ------           --------------  -----  \n",
      " 0   seller city      6298 non-null   object \n",
      " 1   seller is priv   6298 non-null   bool   \n",
      " 2   seller list src  6296 non-null   object \n",
      " 3   seller name      6298 non-null   object \n",
      " 4   seller rating    6298 non-null   float64\n",
      " 5   seller rev cnt   6298 non-null   int64  \n",
      " 6   seller state     6298 non-null   object \n",
      " 7   seller zip       6296 non-null   float64\n",
      " 8   body style       6298 non-null   object \n",
      " 9   certified        6298 non-null   bool   \n",
      " 10  color ext        6225 non-null   object \n",
      " 11  color int        5570 non-null   object \n",
      " 12  drive train      5897 non-null   object \n",
      " 13  engine           5937 non-null   object \n",
      " 14  feats            6023 non-null   object \n",
      " 15  fuel             6296 non-null   object \n",
      " 16  history          6097 non-null   object \n",
      " 17  list days        6296 non-null   float64\n",
      " 18  make             6298 non-null   object \n",
      " 19  mileage          6296 non-null   float64\n",
      " 20  model            6298 non-null   object \n",
      " 21  price label      6013 non-null   object \n",
      " 22  seller notes     6055 non-null   object \n",
      " 23  type             6298 non-null   object \n",
      " 24  transmission     6101 non-null   object \n",
      " 25  year             6298 non-null   int64  \n",
      "dtypes: bool(2), float64(4), int64(2), object(18)\n",
      "memory usage: 1.2+ MB\n"
     ]
    }
   ],
   "source": [
    "# Impute missing value\n",
    "X = train_data.drop(y.columns, axis=1)\n",
    "X.info()"
   ]
  },
  {
   "cell_type": "code",
   "execution_count": 366,
   "id": "7ec1e1de",
   "metadata": {},
   "outputs": [
    {
     "data": {
      "text/plain": [
       "seller city          0\n",
       "seller is priv       0\n",
       "seller list src      2\n",
       "seller name          0\n",
       "seller rating        0\n",
       "seller rev cnt       0\n",
       "seller state         0\n",
       "seller zip           2\n",
       "body style           0\n",
       "certified            0\n",
       "color ext           73\n",
       "color int          728\n",
       "drive train        401\n",
       "engine             361\n",
       "feats              275\n",
       "fuel                 2\n",
       "history            201\n",
       "list days            2\n",
       "make                 0\n",
       "mileage              2\n",
       "model                0\n",
       "price label        285\n",
       "seller notes       243\n",
       "type                 0\n",
       "transmission       197\n",
       "year                 0\n",
       "dtype: int64"
      ]
     },
     "execution_count": 366,
     "metadata": {},
     "output_type": "execute_result"
    }
   ],
   "source": [
    "X.isna().sum()"
   ]
  },
  {
   "cell_type": "code",
   "execution_count": 367,
   "id": "495d4ec5",
   "metadata": {},
   "outputs": [
    {
     "data": {
      "text/html": [
       "<div>\n",
       "<style scoped>\n",
       "    .dataframe tbody tr th:only-of-type {\n",
       "        vertical-align: middle;\n",
       "    }\n",
       "\n",
       "    .dataframe tbody tr th {\n",
       "        vertical-align: top;\n",
       "    }\n",
       "\n",
       "    .dataframe thead th {\n",
       "        text-align: right;\n",
       "    }\n",
       "</style>\n",
       "<table border=\"1\" class=\"dataframe\">\n",
       "  <thead>\n",
       "    <tr style=\"text-align: right;\">\n",
       "      <th></th>\n",
       "      <th>trim</th>\n",
       "      <th>listing price</th>\n",
       "    </tr>\n",
       "    <tr>\n",
       "      <th>ListingID</th>\n",
       "      <th></th>\n",
       "      <th></th>\n",
       "    </tr>\n",
       "  </thead>\n",
       "  <tbody>\n",
       "    <tr>\n",
       "      <th>3287</th>\n",
       "      <td>High Altitude</td>\n",
       "      <td>30990.0</td>\n",
       "    </tr>\n",
       "    <tr>\n",
       "      <th>3920</th>\n",
       "      <td>NaN</td>\n",
       "      <td>34860.0</td>\n",
       "    </tr>\n",
       "    <tr>\n",
       "      <th>4777</th>\n",
       "      <td>Laredo</td>\n",
       "      <td>23249.0</td>\n",
       "    </tr>\n",
       "    <tr>\n",
       "      <th>6242</th>\n",
       "      <td>Limited</td>\n",
       "      <td>31977.0</td>\n",
       "    </tr>\n",
       "    <tr>\n",
       "      <th>7108</th>\n",
       "      <td>Luxury</td>\n",
       "      <td>33495.0</td>\n",
       "    </tr>\n",
       "  </tbody>\n",
       "</table>\n",
       "</div>"
      ],
      "text/plain": [
       "                    trim  listing price\n",
       "ListingID                              \n",
       "3287       High Altitude        30990.0\n",
       "3920                 NaN        34860.0\n",
       "4777              Laredo        23249.0\n",
       "6242             Limited        31977.0\n",
       "7108              Luxury        33495.0"
      ]
     },
     "execution_count": 367,
     "metadata": {},
     "output_type": "execute_result"
    }
   ],
   "source": [
    "# Observe, Clean, Transform. Starting Dependent Variables\n",
    "y.head()"
   ]
  },
  {
   "cell_type": "code",
   "execution_count": 368,
   "id": "5a632eed",
   "metadata": {},
   "outputs": [
    {
     "data": {
      "text/plain": [
       "trim\n",
       "Limited                             1912\n",
       "Premium Luxury                       747\n",
       "Laredo                               704\n",
       "Luxury                               645\n",
       "Overland                             381\n",
       "Altitude                             325\n",
       "Summit                               242\n",
       "Trailhawk                            178\n",
       "Base                                 159\n",
       "Platinum                             131\n",
       "High Altitude                         86\n",
       "SRT                                   76\n",
       "Luxury FWD                            53\n",
       "FWD                                   49\n",
       "Laredo E                              47\n",
       "Premium Luxury FWD                    35\n",
       "Trackhawk                             30\n",
       "Sterling Edition                      26\n",
       "Luxury AWD                            22\n",
       "Platinum AWD                          13\n",
       "Premium Luxury AWD                     9\n",
       "75th Anniversary                       8\n",
       "Limited 75th Anniversary Edition       5\n",
       "SRT Night                              3\n",
       "Upland                                 3\n",
       "Limited 4x4                            1\n",
       "75th Anniversary Edition               1\n",
       "Limited 75th Anniversary               1\n",
       "Limited X                              1\n",
       "Name: count, dtype: int64"
      ]
     },
     "execution_count": 368,
     "metadata": {},
     "output_type": "execute_result"
    }
   ],
   "source": [
    "# Cleaning trim. Simplify with most similar groups\n",
    "y['trim'].value_counts()"
   ]
  },
  {
   "cell_type": "code",
   "execution_count": 369,
   "id": "497ba3f7",
   "metadata": {},
   "outputs": [
    {
     "data": {
      "text/plain": [
       "make\n",
       "Cadillac    1511\n",
       "Name: count, dtype: int64"
      ]
     },
     "execution_count": 369,
     "metadata": {},
     "output_type": "execute_result"
    }
   ],
   "source": [
    "# Show which make has \"Luxury\"\n",
    "train_data.loc[y['trim'].str.lower().str.contains('luxury') == True, 'make'].value_counts()"
   ]
  },
  {
   "cell_type": "code",
   "execution_count": 370,
   "id": "471f5afe",
   "metadata": {},
   "outputs": [
    {
     "data": {
      "text/plain": [
       "make\n",
       "Jeep    1920\n",
       "Name: count, dtype: int64"
      ]
     },
     "execution_count": 370,
     "metadata": {},
     "output_type": "execute_result"
    }
   ],
   "source": [
    "# Show which make has \"Limited\"\n",
    "train_data.loc[y['trim'].str.lower().str.contains('limited') == True, 'make'].value_counts()"
   ]
  },
  {
   "cell_type": "code",
   "execution_count": 371,
   "id": "69d5dd29",
   "metadata": {},
   "outputs": [
    {
     "data": {
      "text/plain": [
       "make\n",
       "Jeep    751\n",
       "Name: count, dtype: int64"
      ]
     },
     "execution_count": 371,
     "metadata": {},
     "output_type": "execute_result"
    }
   ],
   "source": [
    "# Show which make has \"Laredo\"\n",
    "train_data.loc[y['trim'].str.lower().str.contains('laredo') == True, 'make'].value_counts()"
   ]
  },
  {
   "cell_type": "code",
   "execution_count": 372,
   "id": "c33ac873",
   "metadata": {},
   "outputs": [
    {
     "data": {
      "text/plain": [
       "make\n",
       "Cadillac    137\n",
       "Name: count, dtype: int64"
      ]
     },
     "execution_count": 372,
     "metadata": {},
     "output_type": "execute_result"
    }
   ],
   "source": [
    "# Show which make has \"Front Wheel Drive\"\n",
    "train_data.loc[y['trim'].str.lower().str.contains('fwd') == True, 'make'].value_counts()"
   ]
  },
  {
   "cell_type": "code",
   "execution_count": 373,
   "id": "618a2981",
   "metadata": {},
   "outputs": [
    {
     "data": {
      "text/plain": [
       "make\n",
       "Cadillac    44\n",
       "Name: count, dtype: int64"
      ]
     },
     "execution_count": 373,
     "metadata": {},
     "output_type": "execute_result"
    }
   ],
   "source": [
    "# Show which make has \"All Wheel Drive\"\n",
    "train_data.loc[y['trim'].str.lower().str.contains('awd') == True, 'make'].value_counts()"
   ]
  },
  {
   "cell_type": "code",
   "execution_count": 374,
   "id": "15d69105",
   "metadata": {},
   "outputs": [
    {
     "data": {
      "text/plain": [
       "make\n",
       "Jeep        4199\n",
       "Cadillac    2099\n",
       "Name: count, dtype: int64"
      ]
     },
     "execution_count": 374,
     "metadata": {},
     "output_type": "execute_result"
    }
   ],
   "source": [
    "# Display whats there\n",
    "train_data['make'].value_counts()"
   ]
  },
  {
   "cell_type": "code",
   "execution_count": 375,
   "id": "610e4181",
   "metadata": {},
   "outputs": [
    {
     "data": {
      "text/plain": [
       "make      trim                            \n",
       "Cadillac  Premium Luxury                       747\n",
       "          Luxury                               645\n",
       "          Base                                 159\n",
       "          Platinum                             131\n",
       "          Luxury FWD                            53\n",
       "          FWD                                   49\n",
       "          Premium Luxury FWD                    35\n",
       "          Luxury AWD                            22\n",
       "          Platinum AWD                          13\n",
       "          Premium Luxury AWD                     9\n",
       "Jeep      Limited                             1912\n",
       "          Laredo                               704\n",
       "          Overland                             381\n",
       "          Altitude                             325\n",
       "          Summit                               242\n",
       "          Trailhawk                            178\n",
       "          High Altitude                         86\n",
       "          SRT                                   76\n",
       "          Laredo E                              47\n",
       "          Trackhawk                             30\n",
       "          Sterling Edition                      26\n",
       "          75th Anniversary                       8\n",
       "          Limited 75th Anniversary Edition       5\n",
       "          SRT Night                              3\n",
       "          Upland                                 3\n",
       "          Limited X                              1\n",
       "          Limited 75th Anniversary               1\n",
       "          Limited 4x4                            1\n",
       "          75th Anniversary Edition               1\n",
       "Name: count, dtype: int64"
      ]
     },
     "execution_count": 375,
     "metadata": {},
     "output_type": "execute_result"
    }
   ],
   "source": [
    "# Display which trim belongs to maker\n",
    "train_data.groupby('make')['trim'].value_counts()"
   ]
  },
  {
   "cell_type": "code",
   "execution_count": 376,
   "id": "54e2d0c7",
   "metadata": {},
   "outputs": [
    {
     "name": "stdout",
     "output_type": "stream",
     "text": [
      "<class 'pandas.core.frame.DataFrame'>\n",
      "Index: 2099 entries, 3920 to 8617378\n",
      "Data columns (total 28 columns):\n",
      " #   Column           Non-Null Count  Dtype  \n",
      "---  ------           --------------  -----  \n",
      " 0   seller city      2099 non-null   object \n",
      " 1   seller is priv   2099 non-null   bool   \n",
      " 2   seller list src  2099 non-null   object \n",
      " 3   seller name      2099 non-null   object \n",
      " 4   seller rating    2099 non-null   float64\n",
      " 5   seller rev cnt   2099 non-null   int64  \n",
      " 6   seller state     2099 non-null   object \n",
      " 7   seller zip       2099 non-null   float64\n",
      " 8   body style       2099 non-null   object \n",
      " 9   certified        2099 non-null   bool   \n",
      " 10  color ext        2072 non-null   object \n",
      " 11  color int        1782 non-null   object \n",
      " 12  drive train      1925 non-null   object \n",
      " 13  engine           1929 non-null   object \n",
      " 14  feats            1863 non-null   object \n",
      " 15  fuel             2099 non-null   object \n",
      " 16  history          2085 non-null   object \n",
      " 17  list days        2099 non-null   float64\n",
      " 18  make             2099 non-null   object \n",
      " 19  mileage          2097 non-null   float64\n",
      " 20  model            2099 non-null   object \n",
      " 21  price label      2012 non-null   object \n",
      " 22  seller notes     1973 non-null   object \n",
      " 23  type             2099 non-null   object \n",
      " 24  transmission     1928 non-null   object \n",
      " 25  year             2099 non-null   int64  \n",
      " 26  trim             1863 non-null   object \n",
      " 27  listing price    2047 non-null   float64\n",
      "dtypes: bool(2), float64(5), int64(2), object(19)\n",
      "memory usage: 446.9+ KB\n"
     ]
    }
   ],
   "source": [
    "# Display better maker by splitting Jeep and Cadillac\n",
    "c_data = train_data[train_data['make'] == 'Cadillac']\n",
    "c_data.info()"
   ]
  },
  {
   "cell_type": "code",
   "execution_count": 377,
   "id": "2235cb34",
   "metadata": {},
   "outputs": [
    {
     "name": "stdout",
     "output_type": "stream",
     "text": [
      "<class 'pandas.core.frame.DataFrame'>\n",
      "Index: 4199 entries, 3287 to 8620012\n",
      "Data columns (total 28 columns):\n",
      " #   Column           Non-Null Count  Dtype  \n",
      "---  ------           --------------  -----  \n",
      " 0   seller city      4199 non-null   object \n",
      " 1   seller is priv   4199 non-null   bool   \n",
      " 2   seller list src  4197 non-null   object \n",
      " 3   seller name      4199 non-null   object \n",
      " 4   seller rating    4199 non-null   float64\n",
      " 5   seller rev cnt   4199 non-null   int64  \n",
      " 6   seller state     4199 non-null   object \n",
      " 7   seller zip       4197 non-null   float64\n",
      " 8   body style       4199 non-null   object \n",
      " 9   certified        4199 non-null   bool   \n",
      " 10  color ext        4153 non-null   object \n",
      " 11  color int        3788 non-null   object \n",
      " 12  drive train      3972 non-null   object \n",
      " 13  engine           4008 non-null   object \n",
      " 14  feats            4160 non-null   object \n",
      " 15  fuel             4197 non-null   object \n",
      " 16  history          4012 non-null   object \n",
      " 17  list days        4197 non-null   float64\n",
      " 18  make             4199 non-null   object \n",
      " 19  mileage          4199 non-null   float64\n",
      " 20  model            4199 non-null   object \n",
      " 21  price label      4001 non-null   object \n",
      " 22  seller notes     4082 non-null   object \n",
      " 23  type             4199 non-null   object \n",
      " 24  transmission     4173 non-null   object \n",
      " 25  year             4199 non-null   int64  \n",
      " 26  trim             4030 non-null   object \n",
      " 27  listing price    4199 non-null   float64\n",
      "dtypes: bool(2), float64(5), int64(2), object(19)\n",
      "memory usage: 893.9+ KB\n"
     ]
    }
   ],
   "source": [
    "j_data = train_data[train_data['make'] == 'Jeep']\n",
    "j_data.info()"
   ]
  },
  {
   "cell_type": "code",
   "execution_count": 378,
   "id": "3ce7d4db",
   "metadata": {
    "scrolled": true
   },
   "outputs": [],
   "source": [
    "trim_mapping = {\n",
    "    'premium': ['premium luxury', 'premium luxury fwd', 'premium luxury awd'],\n",
    "    'luxury': ['luxury', 'luxury fwd', 'luxury awd'],\n",
    "    'base': ['base'],\n",
    "    'platinum': ['platinum', 'platinum awd']\n",
    "}"
   ]
  },
  {
   "cell_type": "code",
   "execution_count": 379,
   "id": "e025f2c1",
   "metadata": {},
   "outputs": [],
   "source": [
    "# Function to map trims based on the mapping dictionary\n",
    "def map_trims(trim):\n",
    "    for category, trim_list in trim_mapping.items():\n",
    "        if trim in trim_list:\n",
    "            return category\n",
    "    return trim"
   ]
  },
  {
   "cell_type": "code",
   "execution_count": 380,
   "id": "bef97930",
   "metadata": {},
   "outputs": [],
   "source": [
    "# Apply the mapping function to the 'trim' column\n",
    "c_data['cleaned_trim'] = c_data['trim'].apply(map_trims)"
   ]
  },
  {
   "cell_type": "code",
   "execution_count": 381,
   "id": "597e4d74",
   "metadata": {},
   "outputs": [],
   "source": [
    "# Drop rows where 'cleaned_trim' is 'fwd'\n",
    "c_data_cleaned = c_data[c_data['trim'] != 'fwd']"
   ]
  },
  {
   "cell_type": "code",
   "execution_count": 382,
   "id": "7e37751c",
   "metadata": {},
   "outputs": [],
   "source": [
    "# Use groupby to group by the 'make' and 'cleaned_trim' columns and count the occurrences\n",
    "grouped_counts = c_data_cleaned.groupby(['trim'])"
   ]
  },
  {
   "cell_type": "code",
   "execution_count": 383,
   "id": "7e901492",
   "metadata": {},
   "outputs": [],
   "source": [
    "c_data.loc[c_data['trim'].str.lower().str.contains('premium') == True, 'trim'] = 'premium'\n",
    "c_data.loc[c_data['trim'].str.lower().str.contains('luxury') == True, 'trim'] = 'luxury'\n",
    "c_data.loc[c_data['trim'].str.lower().str.contains('base') == True, 'trim'] = 'base'\n",
    "c_data.loc[c_data['trim'].str.lower().str.contains('platinum') == True, 'trim'] = 'platinum'"
   ]
  },
  {
   "cell_type": "code",
   "execution_count": 384,
   "id": "d16d00f8",
   "metadata": {},
   "outputs": [],
   "source": [
    "# c_data['trim'].value_counts().sort_values().plot.barh()"
   ]
  },
  {
   "cell_type": "code",
   "execution_count": 385,
   "id": "4e0c7695",
   "metadata": {},
   "outputs": [
    {
     "data": {
      "text/plain": [
       "trim\n",
       "premium     791\n",
       "luxury      720\n",
       "base        159\n",
       "platinum    144\n",
       "FWD          49\n",
       "Name: count, dtype: int64"
      ]
     },
     "execution_count": 385,
     "metadata": {},
     "output_type": "execute_result"
    }
   ],
   "source": [
    "c_data['trim'].value_counts()"
   ]
  },
  {
   "cell_type": "code",
   "execution_count": 386,
   "id": "103a6a60",
   "metadata": {},
   "outputs": [
    {
     "data": {
      "text/plain": [
       "trim\n",
       "premium     791\n",
       "luxury      720\n",
       "base        159\n",
       "platinum    144\n",
       "Name: count, dtype: int64"
      ]
     },
     "execution_count": 386,
     "metadata": {},
     "output_type": "execute_result"
    }
   ],
   "source": [
    "c_data = c_data[c_data['trim'] != 'FWD']\n",
    "c_data['trim'].value_counts()"
   ]
  },
  {
   "cell_type": "code",
   "execution_count": 387,
   "id": "2c38658e",
   "metadata": {},
   "outputs": [],
   "source": [
    "j_data.loc[j_data['trim'].str.lower().str.contains('limited') == True, 'trim'] = 'limited'\n",
    "j_data.loc[j_data['trim'].str.lower().str.contains('laredo') == True, 'trim'] = 'laredo'\n",
    "j_data.loc[j_data['trim'].str.lower().str.contains('srt') == True, 'trim'] = 'srt'"
   ]
  },
  {
   "cell_type": "code",
   "execution_count": 388,
   "id": "ba1d1146",
   "metadata": {},
   "outputs": [],
   "source": [
    "j_data['cleaned_trim'] = j_data['trim'].apply(map_trims)"
   ]
  },
  {
   "cell_type": "code",
   "execution_count": 389,
   "id": "1393c20a",
   "metadata": {},
   "outputs": [],
   "source": [
    "j_data_cleaned = j_data[j_data['trim'] != 'fwd']"
   ]
  },
  {
   "cell_type": "code",
   "execution_count": 390,
   "id": "addf33cd",
   "metadata": {},
   "outputs": [],
   "source": [
    "grouped_counts = j_data_cleaned.groupby(['trim'])"
   ]
  },
  {
   "cell_type": "code",
   "execution_count": 391,
   "id": "563f38e2",
   "metadata": {},
   "outputs": [
    {
     "data": {
      "text/plain": [
       "<Axes: ylabel='trim'>"
      ]
     },
     "execution_count": 391,
     "metadata": {},
     "output_type": "execute_result"
    },
    {
     "data": {
      "image/png": "[encoded data removed]",
      "text/plain": [
       "<Figure size 640x480 with 1 Axes>"
      ]
     },
     "metadata": {},
     "output_type": "display_data"
    }
   ],
   "source": [
    "j_data['trim'].value_counts().sort_values().plot.barh()"
   ]
  },
  {
   "cell_type": "code",
   "execution_count": 392,
   "id": "8f229772",
   "metadata": {},
   "outputs": [
    {
     "name": "stdout",
     "output_type": "stream",
     "text": [
      "<class 'pandas.core.frame.DataFrame'>\n",
      "Index: 3992 entries, 3287 to 8620012\n",
      "Data columns (total 29 columns):\n",
      " #   Column           Non-Null Count  Dtype  \n",
      "---  ------           --------------  -----  \n",
      " 0   seller city      3992 non-null   object \n",
      " 1   seller is priv   3992 non-null   bool   \n",
      " 2   seller list src  3990 non-null   object \n",
      " 3   seller name      3992 non-null   object \n",
      " 4   seller rating    3992 non-null   float64\n",
      " 5   seller rev cnt   3992 non-null   int64  \n",
      " 6   seller state     3992 non-null   object \n",
      " 7   seller zip       3990 non-null   float64\n",
      " 8   body style       3992 non-null   object \n",
      " 9   certified        3992 non-null   bool   \n",
      " 10  color ext        3966 non-null   object \n",
      " 11  color int        3697 non-null   object \n",
      " 12  drive train      3933 non-null   object \n",
      " 13  engine           3969 non-null   object \n",
      " 14  feats            3976 non-null   object \n",
      " 15  fuel             3990 non-null   object \n",
      " 16  history          3805 non-null   object \n",
      " 17  list days        3990 non-null   float64\n",
      " 18  make             3992 non-null   object \n",
      " 19  mileage          3992 non-null   float64\n",
      " 20  model            3992 non-null   object \n",
      " 21  price label      3794 non-null   object \n",
      " 22  seller notes     3949 non-null   object \n",
      " 23  type             3992 non-null   object \n",
      " 24  transmission     3966 non-null   object \n",
      " 25  year             3992 non-null   int64  \n",
      " 26  trim             3992 non-null   object \n",
      " 27  listing price    3992 non-null   float64\n",
      " 28  cleaned_trim     3992 non-null   object \n",
      "dtypes: bool(2), float64(5), int64(2), object(20)\n",
      "memory usage: 881.0+ KB\n"
     ]
    }
   ],
   "source": [
    "# Removing data after Trackhawk\n",
    "keep_trims = ['limited', 'laredo', 'overland', 'altitude', 'summit', 'trailhawk', 'high altitude', 'srt', 'trackhawk']\n",
    "j_data = j_data.loc[j_data['trim'].str.lower().isin(keep_trims), :]\n",
    "j_data.info()"
   ]
  },
  {
   "cell_type": "code",
   "execution_count": 393,
   "id": "5f0966ec",
   "metadata": {},
   "outputs": [
    {
     "data": {
      "text/plain": [
       "trim\n",
       "limited          1920\n",
       "laredo            751\n",
       "Overland          381\n",
       "Altitude          325\n",
       "Summit            242\n",
       "Trailhawk         178\n",
       "High Altitude      86\n",
       "srt                79\n",
       "Trackhawk          30\n",
       "Name: count, dtype: int64"
      ]
     },
     "execution_count": 393,
     "metadata": {},
     "output_type": "execute_result"
    }
   ],
   "source": [
    "j_data['trim'].value_counts()"
   ]
  },
  {
   "cell_type": "code",
   "execution_count": 394,
   "id": "ae25b0c7",
   "metadata": {},
   "outputs": [
    {
     "data": {
      "image/png": "[encoded data removed]",
      "text/plain": [
       "<Figure size 1600x800 with 2 Axes>"
      ]
     },
     "metadata": {},
     "output_type": "display_data"
    }
   ],
   "source": [
    "fig, axes = plt.subplots(ncols=2, figsize=(16,8))\n",
    "j_data['trim'].value_counts().sort_values().plot.barh(ax=axes[0])\n",
    "axes[0].set_title('Jeep')\n",
    "c_data['trim'].value_counts().sort_values().plot.barh(ax=axes[1])\n",
    "axes[1].set_title('Caddilac')\n",
    "fig.suptitle('Trim Counts')\n",
    "fig.savefig('trim_counts.png');"
   ]
  },
  {
   "cell_type": "code",
   "execution_count": 395,
   "id": "988adcda",
   "metadata": {},
   "outputs": [
    {
     "data": {
      "text/plain": [
       "52"
      ]
     },
     "execution_count": 395,
     "metadata": {},
     "output_type": "execute_result"
    }
   ],
   "source": [
    "# Oginizing the price of dealer\n",
    "\n",
    "y['listing price'].isna().sum()"
   ]
  },
  {
   "cell_type": "code",
   "execution_count": 396,
   "id": "edb0f631",
   "metadata": {
    "scrolled": true
   },
   "outputs": [
    {
     "data": {
      "text/plain": [
       "Text(0.5, 1.0, 'Listing Price Issued')"
      ]
     },
     "execution_count": 396,
     "metadata": {},
     "output_type": "execute_result"
    },
    {
     "data": {
      "image/png": "[encoded data removed]",
      "text/plain": [
       "<Figure size 1500x800 with 1 Axes>"
      ]
     },
     "metadata": {},
     "output_type": "display_data"
    }
   ],
   "source": [
    "fig, ax = plt.subplots(figsize=(15,8))\n",
    "sns.histplot(c_data['listing price'], kde=True, color='red', ax=ax, label='cadillac')\n",
    "sns.histplot(j_data['listing price'], kde=True, color='blue', ax=ax, label='jeep')\n",
    "ax.legend()\n",
    "ax.set_title('Listing Price Issued')"
   ]
  },
  {
   "cell_type": "code",
   "execution_count": 397,
   "id": "f2c3547e",
   "metadata": {},
   "outputs": [],
   "source": [
    "# Define Quick Scale to use temperature for QQ Plot\n",
    "def quick_scale(series):\n",
    "    return series.sub(np.mean(series)).div(np.std(series))"
   ]
  },
  {
   "cell_type": "code",
   "execution_count": 398,
   "id": "26a5ecc1",
   "metadata": {},
   "outputs": [
    {
     "data": {
      "text/plain": [
       "Text(0.5, 1.0, 'QQ Plot Jeep listing price')"
      ]
     },
     "execution_count": 398,
     "metadata": {},
     "output_type": "execute_result"
    },
    {
     "data": {
      "image/png": "[encoded data removed]",
      "text/plain": [
       "<Figure size 2000x800 with 2 Axes>"
      ]
     },
     "metadata": {},
     "output_type": "display_data"
    }
   ],
   "source": [
    "fig, axes = plt.subplots(ncols=2, figsize=(20,8))\n",
    "temp = quick_scale(np.log(c_data['listing price']))\n",
    "sm.qqplot(temp, line='45', ax=axes[0])\n",
    "axes[0].set_title('QQ Plot Cadillac listing price')\n",
    "\n",
    "temp = quick_scale(np.log(j_data['listing price']))\n",
    "sm.qqplot(temp, line='45', ax=axes[1])\n",
    "axes[1].set_title('QQ Plot Jeep listing price')"
   ]
  },
  {
   "cell_type": "code",
   "execution_count": 399,
   "id": "5beb450d",
   "metadata": {},
   "outputs": [],
   "source": [
    "c_data.loc[:, 'listing price'] = np.log(c_data.loc[:, 'listing price'])\n",
    "j_data.loc[:, 'listing price'] = np.log(j_data.loc[:, 'listing price'])"
   ]
  },
  {
   "cell_type": "code",
   "execution_count": 400,
   "id": "c9e640b6",
   "metadata": {},
   "outputs": [
    {
     "name": "stdout",
     "output_type": "stream",
     "text": [
      "<class 'pandas.core.frame.DataFrame'>\n",
      "Index: 4965 entries, 4777 to 8617378\n",
      "Data columns (total 29 columns):\n",
      " #   Column           Non-Null Count  Dtype  \n",
      "---  ------           --------------  -----  \n",
      " 0   seller city      4965 non-null   object \n",
      " 1   seller is priv   4965 non-null   bool   \n",
      " 2   seller list src  4965 non-null   object \n",
      " 3   seller name      4965 non-null   object \n",
      " 4   seller rating    4965 non-null   float64\n",
      " 5   seller rev cnt   4965 non-null   int64  \n",
      " 6   seller state     4965 non-null   object \n",
      " 7   seller zip       4965 non-null   float64\n",
      " 8   body style       4965 non-null   object \n",
      " 9   certified        4965 non-null   bool   \n",
      " 10  color ext        4965 non-null   object \n",
      " 11  color int        4965 non-null   object \n",
      " 12  drive train      4965 non-null   object \n",
      " 13  engine           4965 non-null   object \n",
      " 14  feats            4965 non-null   object \n",
      " 15  fuel             4965 non-null   object \n",
      " 16  history          4965 non-null   object \n",
      " 17  list days        4965 non-null   float64\n",
      " 18  make             4965 non-null   object \n",
      " 19  mileage          4965 non-null   float64\n",
      " 20  model            4965 non-null   object \n",
      " 21  price label      4965 non-null   object \n",
      " 22  seller notes     4965 non-null   object \n",
      " 23  type             4965 non-null   object \n",
      " 24  transmission     4965 non-null   object \n",
      " 25  year             4965 non-null   int64  \n",
      " 26  trim             4965 non-null   object \n",
      " 27  listing price    4965 non-null   float64\n",
      " 28  cleaned_trim     4965 non-null   object \n",
      "dtypes: bool(2), float64(5), int64(2), object(20)\n",
      "memory usage: 1.1+ MB\n"
     ]
    }
   ],
   "source": [
    "# Independent Features\n",
    "train_data = pd.concat([j_data, c_data])\n",
    "train_data.dropna(inplace=True)\n",
    "train_data.info()"
   ]
  },
  {
   "cell_type": "code",
   "execution_count": 401,
   "id": "c927a6d6",
   "metadata": {},
   "outputs": [],
   "source": [
    "test_index =np.random.choice(train_data.index,\n",
    "                            size=train_data.index.size // 5,\n",
    "                            replace=False)\n",
    "train_index = train_data.index[[i not in test_index for i in train_data.index]]\n",
    "train_data, test_data = train_data.loc[train_index,:].copy(), train_data.loc[test_index,:].copy()"
   ]
  },
  {
   "cell_type": "code",
   "execution_count": 497,
   "id": "a2e31e4a",
   "metadata": {},
   "outputs": [
    {
     "data": {
      "text/plain": [
       "Index(['ListingID', 'Seller City', 'Seller Is Priv', 'Seller List Src',\n",
       "       'Seller Name'],\n",
       "      dtype='object')"
      ]
     },
     "execution_count": 497,
     "metadata": {},
     "output_type": "execute_result"
    }
   ],
   "source": [
    "categorical_feature = []\n",
    "numeric_features = []\n",
    "drop_features = []\n",
    "data_cols = train_data.columns[:5]\n",
    "data_cols"
   ]
  },
  {
   "cell_type": "code",
   "execution_count": 498,
   "id": "fc4fa45a",
   "metadata": {},
   "outputs": [
    {
     "data": {
      "text/plain": [
       "0    3287\n",
       "1    3920\n",
       "2    4777\n",
       "3    6242\n",
       "4    7108\n",
       "Name: ListingID, dtype: int64"
      ]
     },
     "execution_count": 498,
     "metadata": {},
     "output_type": "execute_result"
    }
   ],
   "source": [
    "i = 0\n",
    "temp = train_data[data_cols[i]].copy()\n",
    "temp.head()"
   ]
  },
  {
   "cell_type": "code",
   "execution_count": 499,
   "id": "ab66669d",
   "metadata": {},
   "outputs": [
    {
     "data": {
      "text/plain": [
       "ListingID\n",
       "3287       0.000159\n",
       "5780500    0.000159\n",
       "5779657    0.000159\n",
       "5778762    0.000159\n",
       "5778758    0.000159\n",
       "5777772    0.000159\n",
       "5777650    0.000159\n",
       "5776922    0.000159\n",
       "5776335    0.000159\n",
       "5772737    0.000159\n",
       "Name: count, dtype: float64"
      ]
     },
     "execution_count": 499,
     "metadata": {},
     "output_type": "execute_result"
    }
   ],
   "source": [
    "(temp.value_counts() / temp.size).head(10)"
   ]
  },
  {
   "cell_type": "code",
   "execution_count": 500,
   "id": "4cf8422b",
   "metadata": {},
   "outputs": [],
   "source": [
    "# Remove City Columns\n",
    "drop_features.append(data_cols[i])\n",
    "i += 1"
   ]
  },
  {
   "cell_type": "code",
   "execution_count": 501,
   "id": "8f56aa0b",
   "metadata": {},
   "outputs": [
    {
     "data": {
      "text/plain": [
       "(0          Warren\n",
       " 1           Fargo\n",
       " 2        Waukesha\n",
       " 3      Wentzville\n",
       " 4    Fayetteville\n",
       " Name: Seller City, dtype: object,\n",
       " Seller City\n",
       " Chicago          118\n",
       " Battle Creek     103\n",
       " Columbus          63\n",
       " Louisville        59\n",
       " Houston           53\n",
       "                 ... \n",
       " Big Stone Gap      1\n",
       " Delmont            1\n",
       " Gulfport           1\n",
       " Shreveport         1\n",
       " Virginia           1\n",
       " Name: count, Length: 1318, dtype: int64)"
      ]
     },
     "execution_count": 501,
     "metadata": {},
     "output_type": "execute_result"
    }
   ],
   "source": [
    "temp = train_data[data_cols[i]].copy()\n",
    "temp.head(), temp.value_counts()"
   ]
  },
  {
   "cell_type": "code",
   "execution_count": 502,
   "id": "007ff59b",
   "metadata": {},
   "outputs": [],
   "source": [
    "drop_features.append(data_cols[i])\n",
    "i += 1"
   ]
  },
  {
   "cell_type": "code",
   "execution_count": 503,
   "id": "83c20c44",
   "metadata": {},
   "outputs": [
    {
     "data": {
      "text/plain": [
       "(0    False\n",
       " 1    False\n",
       " 2    False\n",
       " 3    False\n",
       " 4    False\n",
       " Name: Seller Is Priv, dtype: bool,\n",
       " Seller Is Priv\n",
       " False    6284\n",
       " True       14\n",
       " Name: count, dtype: int64)"
      ]
     },
     "execution_count": 503,
     "metadata": {},
     "output_type": "execute_result"
    }
   ],
   "source": [
    "temp = train_data[data_cols[i]].copy()\n",
    "temp.head(), temp.value_counts()"
   ]
  },
  {
   "cell_type": "code",
   "execution_count": 504,
   "id": "67529b46",
   "metadata": {},
   "outputs": [
    {
     "data": {
      "text/plain": [
       "Seller Is Priv\n",
       "False    0.997777\n",
       "True     0.002223\n",
       "Name: count, dtype: float64"
      ]
     },
     "execution_count": 504,
     "metadata": {},
     "output_type": "execute_result"
    }
   ],
   "source": [
    "temp.value_counts() / temp.size"
   ]
  },
  {
   "cell_type": "code",
   "execution_count": 505,
   "id": "5ac3d229",
   "metadata": {},
   "outputs": [
    {
     "data": {
      "text/plain": [
       "0    False\n",
       "1    False\n",
       "2    False\n",
       "3    False\n",
       "4    False\n",
       "Name: Seller Is Priv, dtype: bool"
      ]
     },
     "execution_count": 505,
     "metadata": {},
     "output_type": "execute_result"
    }
   ],
   "source": [
    "temp = train_data[data_cols[i]].copy()\n",
    "temp.head()"
   ]
  },
  {
   "cell_type": "code",
   "execution_count": 506,
   "id": "9a2a0583",
   "metadata": {},
   "outputs": [
    {
     "data": {
      "text/plain": [
       "Seller Is Priv\n",
       "False    0.997777\n",
       "True     0.002223\n",
       "Name: count, dtype: float64"
      ]
     },
     "execution_count": 506,
     "metadata": {},
     "output_type": "execute_result"
    }
   ],
   "source": [
    "temp.value_counts() / temp.size"
   ]
  },
  {
   "cell_type": "code",
   "execution_count": 507,
   "id": "dab6ed96",
   "metadata": {},
   "outputs": [],
   "source": [
    "drop_features.append(data_cols[i])\n",
    "i += 1"
   ]
  },
  {
   "cell_type": "code",
   "execution_count": 508,
   "id": "e3945492",
   "metadata": {},
   "outputs": [
    {
     "data": {
      "text/plain": [
       "0      Inventory Command Center\n",
       "1    Cadillac Certified Program\n",
       "2        Jeep Certified Program\n",
       "3      Inventory Command Center\n",
       "4            HomeNet Automotive\n",
       "Name: Seller List Src, dtype: object"
      ]
     },
     "execution_count": 508,
     "metadata": {},
     "output_type": "execute_result"
    }
   ],
   "source": [
    "temp = train_data[data_cols[i]].copy()\n",
    "temp.head()"
   ]
  },
  {
   "cell_type": "code",
   "execution_count": 509,
   "id": "2e8e9edd",
   "metadata": {
    "scrolled": true
   },
   "outputs": [
    {
     "data": {
      "image/png": "[encoded data removed]",
      "text/plain": [
       "<Figure size 1500x800 with 1 Axes>"
      ]
     },
     "metadata": {},
     "output_type": "display_data"
    }
   ],
   "source": [
    "temp = pd.Series([1, 2, 2, 3, 3, 3, 4, 4, 5])\n",
    "\n",
    "fig, ax = plt.subplots(figsize=(15, 8))\n",
    "ax.hist(temp, bins=10, edgecolor='black', alpha=0.7)\n",
    "ax.set_title('Histogram of temp')\n",
    "\n",
    "plt.show()"
   ]
  },
  {
   "cell_type": "code",
   "execution_count": 528,
   "id": "159c99be",
   "metadata": {},
   "outputs": [],
   "source": [
    "features = train_data.iloc[:, :-3]\n",
    "target1 = train_data['Trim']\n",
    "target2 = train_data['Listing Price']"
   ]
  },
  {
   "cell_type": "code",
   "execution_count": 532,
   "id": "fc8be707",
   "metadata": {},
   "outputs": [],
   "source": [
    "from sklearn.preprocessing import LabelEncoder\n",
    "\n",
    "# Trim the Model\n",
    "trim_encoder = LabelEncoder()\n",
    "target1_coded = trim_encoder.fit_transform(target1.values)"
   ]
  },
  {
   "cell_type": "code",
   "execution_count": 553,
   "id": "d19be1e9",
   "metadata": {},
   "outputs": [
    {
     "name": "stdout",
     "output_type": "stream",
     "text": [
      "(5038,)\n"
     ]
    }
   ],
   "source": [
    "print(x_train.shape)"
   ]
  },
  {
   "cell_type": "code",
   "execution_count": 560,
   "id": "f2f75ca2",
   "metadata": {},
   "outputs": [],
   "source": [
    "# Assuming x_train is a one-dimensional array\n",
    "num_samples = x_train.shape[0]  # Number of samples\n",
    "\n",
    "# Reshape x_train into a 2D array with one column\n",
    "x_train = x_train.reshape((num_samples, 1))"
   ]
  },
  {
   "cell_type": "code",
   "execution_count": 555,
   "id": "2239d25e",
   "metadata": {},
   "outputs": [],
   "source": [
    "num_samples, num_features = x_train.shape"
   ]
  },
  {
   "cell_type": "code",
   "execution_count": 556,
   "id": "25acc12b",
   "metadata": {},
   "outputs": [],
   "source": [
    "x_train = x_train.reshape((num_samples, num_features))"
   ]
  },
  {
   "cell_type": "code",
   "execution_count": 541,
   "id": "5e53d446",
   "metadata": {},
   "outputs": [
    {
     "name": "stdout",
     "output_type": "stream",
     "text": [
      "['High Altitude' nan 'Laredo' 'Limited' 'Luxury' 'Limited 4x4' 'Altitude'\n",
      " 'Overland' 'Premium Luxury' 'Base' 'Summit' 'FWD' 'SRT' 'Luxury AWD'\n",
      " 'Trailhawk' 'Sterling Edition' 'Platinum' 'Laredo E' 'Luxury FWD'\n",
      " 'Trackhawk' '75th Anniversary' 'Premium Luxury FWD' 'Platinum AWD'\n",
      " 'SRT Night' 'Limited 75th Anniversary Edition' '75th Anniversary Edition'\n",
      " 'Limited 75th Anniversary' 'Premium Luxury AWD' 'Upland' 'Limited X']\n"
     ]
    }
   ],
   "source": [
    "print(target1.unique())"
   ]
  },
  {
   "cell_type": "code",
   "execution_count": null,
   "id": "b8d23924",
   "metadata": {},
   "outputs": [],
   "source": []
  }
 ],
 "metadata": {
  "kernelspec": {
   "display_name": "Python 3 (ipykernel)",
   "language": "python",
   "name": "python3"
  },
  "language_info": {
   "codemirror_mode": {
    "name": "ipython",
    "version": 3
   },
   "file_extension": ".py",
   "mimetype": "text/x-python",
   "name": "python",
   "nbconvert_exporter": "python",
   "pygments_lexer": "ipython3",
   "version": "3.10.9"
  }
 },
 "nbformat": 4,
 "nbformat_minor": 5
}
